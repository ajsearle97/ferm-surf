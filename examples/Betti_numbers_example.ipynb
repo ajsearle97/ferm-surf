{
 "cells": [
  {
   "cell_type": "code",
   "execution_count": 1,
   "metadata": {},
   "outputs": [],
   "source": [
    "\"Want to test the calcualtion of Betti numbers of meshes(and hence Fermi surface in the first Brillouin Zone)\"\n",
    "\n",
    "#Create the BandStructure object\n",
    "\n",
    "import warnings\n",
    "warnings.simplefilter(\"ignore\")\n",
    "\n",
    "from pymatgen.io.vasp.outputs import Vasprun\n",
    "\n",
    "vr = Vasprun('MgB2/vasprun.xml')\n",
    "\n",
    "bs = vr.get_band_structure()"
   ]
  },
  {
   "cell_type": "code",
   "execution_count": 2,
   "metadata": {},
   "outputs": [],
   "source": [
    "#Interpolate to denser mesh (actually not very important for the calculation, hence low interpolation)\n",
    "\n",
    "from ifermi.interpolate import FourierInterpolator\n",
    "\n",
    "interpolator = FourierInterpolator(bs)\n",
    "\n",
    "dense_bs = interpolator.interpolate_bands(interpolation_factor=3)"
   ]
  },
  {
   "cell_type": "code",
   "execution_count": 3,
   "metadata": {},
   "outputs": [],
   "source": [
    "#Create the surface object\n",
    "\n",
    "from ifermi.surface import FermiSurface\n",
    "from ifermi.plot import FermiSurfacePlotter\n",
    "\n",
    "fs = FermiSurface.from_band_structure(dense_bs, mu=0.0, wigner_seitz=True)"
   ]
  },
  {
   "cell_type": "code",
   "execution_count": 11,
   "metadata": {},
   "outputs": [
    {
     "name": "stdout",
     "output_type": "stream",
     "text": [
      "band  0\n",
      "Betti number 0: 1\n",
      "Betti number 1: 1\n",
      "Betti number 2: 0\n",
      "Betti number 3: 0\n",
      "Betti number 4: 0\n",
      "Betti number 5: 0\n",
      "Betti number 6: 0\n",
      "band  1\n",
      "Betti number 0: 1\n",
      "Betti number 1: 1\n",
      "Betti number 2: 0\n",
      "Betti number 3: 0\n",
      "Betti number 4: 0\n",
      "Betti number 5: 0\n",
      "Betti number 6: 0\n",
      "band  2\n",
      "Betti number 0: 1\n",
      "Betti number 1: 1\n",
      "Betti number 2: 0\n",
      "Betti number 3: 0\n",
      "Betti number 4: 0\n",
      "Betti number 5: 0\n",
      "Betti number 6: 0\n",
      "band  3\n",
      "Betti number 0: 1\n",
      "Betti number 1: 1\n",
      "Betti number 2: 0\n",
      "Betti number 3: 0\n",
      "Betti number 4: 0\n",
      "Betti number 5: 0\n",
      "Betti number 6: 0\n",
      "band  4\n",
      "Betti number 0: 1\n",
      "Betti number 1: 1\n",
      "Betti number 2: 0\n",
      "Betti number 3: 0\n",
      "Betti number 4: 0\n",
      "Betti number 5: 0\n",
      "Betti number 6: 0\n",
      "band  5\n",
      "Betti number 0: 1\n",
      "Betti number 1: 1\n",
      "Betti number 2: 0\n",
      "Betti number 3: 0\n",
      "Betti number 4: 0\n",
      "Betti number 5: 0\n",
      "Betti number 6: 0\n",
      "band  6\n",
      "Betti number 0: 1\n",
      "Betti number 1: 1\n",
      "Betti number 2: 0\n",
      "Betti number 3: 0\n",
      "Betti number 4: 0\n",
      "Betti number 5: 0\n",
      "Betti number 6: 0\n"
     ]
    }
   ],
   "source": [
    "#Choose a range of (occupied) bands and dimensions for the Betti numbers.\n",
    "\n",
    "bands = [0, 1, 2, 3, 4, 5, 6]\n",
    "range = [0, 1, 2, 3, 4, 5, 6]\n",
    "\n",
    "for band in bands:\n",
    "    print(\"band \", band)\n",
    "    for k in range:\n",
    "        print(\"Betti number \" + str(k) + \": \" + str(fs.kth_betti_number(band_index = 3, k=k)))"
   ]
  }
 ],
 "metadata": {
  "kernelspec": {
   "display_name": "Python 3",
   "language": "python",
   "name": "python3"
  },
  "language_info": {
   "codemirror_mode": {
    "name": "ipython",
    "version": 3
   },
   "file_extension": ".py",
   "mimetype": "text/x-python",
   "name": "python",
   "nbconvert_exporter": "python",
   "pygments_lexer": "ipython3",
   "version": "3.8.8"
  }
 },
 "nbformat": 4,
 "nbformat_minor": 4
}
